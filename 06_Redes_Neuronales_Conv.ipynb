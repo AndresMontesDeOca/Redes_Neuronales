{
  "cells": [
    {
      "cell_type": "markdown",
      "metadata": {
        "id": "view-in-github",
        "colab_type": "text"
      },
      "source": [
        "<a href=\"https://colab.research.google.com/github/AndresMontesDeOca/Redes_Neuronales/blob/main/06_Redes_Neuronales_Conv.ipynb\" target=\"_parent\"><img src=\"https://colab.research.google.com/assets/colab-badge.svg\" alt=\"Open In Colab\"/></a>"
      ]
    },
    {
      "cell_type": "markdown",
      "metadata": {
        "id": "vdWG2FEMDVST"
      },
      "source": [
        "# Clase 06\n",
        "---\n",
        "**Montar la carpeta de Google Drive y definir constantes para trabajar**"
      ]
    },
    {
      "cell_type": "code",
      "execution_count": 1,
      "metadata": {
        "id": "HIP8SbdLIkDZ",
        "colab": {
          "base_uri": "https://localhost:8080/"
        },
        "outputId": "31ac512c-9bf8-4863-f5c4-7ade07e364b2"
      },
      "outputs": [
        {
          "output_type": "stream",
          "name": "stdout",
          "text": [
            "Mounted at /content/drive/\n"
          ]
        }
      ],
      "source": [
        "import tensorflow as tf\n",
        "import pandas as pd\n",
        "import numpy as np\n",
        "import matplotlib.pyplot as plt\n",
        "import seaborn as sns\n",
        "from tensorflow.keras.datasets import mnist\n",
        "from tensorflow.keras.models import Sequential\n",
        "from tensorflow.keras.layers import InputLayer, Dense, Conv2D, MaxPooling2D, Flatten, Dense, Dropout\n",
        "from tensorflow.keras.utils import to_categorical\n",
        "from sklearn.model_selection import train_test_split\n",
        "from sklearn.preprocessing import LabelEncoder, StandardScaler, MinMaxScaler\n",
        "from tensorflow.keras.callbacks import EarlyStopping\n",
        "from sklearn.preprocessing import StandardScaler\n",
        "import tensorflow as tf\n",
        "\n",
        "\n",
        "ColabNotebook = 'google.colab' in str(get_ipython())\n",
        "\n",
        "if ColabNotebook:\n",
        "    # monta G-drive en entorno COLAB\n",
        "    from google.colab import drive\n",
        "    drive.mount('/content/drive/')\n",
        "\n",
        "    # carpeta donde se encuentran archivos .py auxiliares\n",
        "    FUENTES_DIR = '/content/drive/MyDrive/Colab Notebooks/Redes_Neuronales/Fuentes/'\n",
        "    DATOS_DIR = '/content/drive/MyDrive/Colab Notebooks/Redes_Neuronales/Data/'      # carpeta donde se encuentran los datasets\n",
        "else:\n",
        "    # configuración para notebook con instalación LOCAL\n",
        "    FUENTES_DIR = '../Fuentes'         # carpeta donde se encuentran archivos .py auxiliares\n",
        "    DATOS_DIR   = '../Datos/' # carpeta donde se encuentran los datasets\n",
        "\n",
        "# agrega ruta de busqueda donde tenemos archivos .py\n",
        "import sys\n",
        "sys.path.append(FUENTES_DIR)\n",
        "\n",
        "################################################################\n",
        "def plot_history(history, start_epoch=0, metrics=None):\n",
        "    if isinstance(metrics, str):\n",
        "        metrics = [metrics]\n",
        "\n",
        "    if metrics is None:\n",
        "        metrics = [x for x in history.history.keys() if x[:4] != 'val_']\n",
        "\n",
        "    if len(metrics) == 0:\n",
        "        print('No metrics to display.')\n",
        "        return\n",
        "\n",
        "    # Get the epochs and filter them starting from start_epoch\n",
        "    x = history.epoch[start_epoch:]\n",
        "\n",
        "    rows = 1\n",
        "    cols = len(metrics)\n",
        "    count = 0\n",
        "\n",
        "    plt.figure(figsize=(12 * cols, 8))\n",
        "\n",
        "    for metric in sorted(metrics):\n",
        "        count += 1\n",
        "        plt.subplot(rows, cols, count)\n",
        "        plt.plot(x, history.history[metric][start_epoch:], label='Train')\n",
        "        val_metric = f'val_{metric}'\n",
        "        if val_metric in history.history.keys():\n",
        "            plt.plot(x, history.history[val_metric][start_epoch:], label='Validation')\n",
        "        plt.title(metric.capitalize())\n",
        "        plt.legend()\n",
        "    plt.show()\n",
        "################################################################"
      ]
    },
    {
      "cell_type": "markdown",
      "source": [
        "## 01 - Ejercicio MINST"
      ],
      "metadata": {
        "id": "RSY0txOa7N8L"
      }
    },
    {
      "cell_type": "code",
      "source": [
        "# import time\n",
        "# import numpy as np\n",
        "# from sklearn.model_selection import train_test_split\n",
        "# from sklearn.preprocessing import StandardScaler, MinMaxScaler\n",
        "# from tensorflow.keras.models import Sequential\n",
        "# from tensorflow.keras.layers import Dense\n",
        "# from tensorflow.keras.regularizers import l1, l2\n",
        "\n",
        "# from tensorflow.keras.datasets import mnist\n",
        "# (X_train, Y_train), (X_test, Y_test) = mnist.load_data()\n",
        "\n",
        "# # Redimensionar los datos para que sean compatibles con MinMaxScaler\n",
        "# X_train = X_train.reshape(-1, 28 * 28)\n",
        "# X_test = X_test.reshape(-1, 28 * 28)\n",
        "\n",
        "# # 2. Normalizar los valores de las imágenes a un rango de 0 a 1 utilizando MinMaxScaler\n",
        "# scaler = MinMaxScaler()\n",
        "# X_train = scaler.fit_transform(X_train)\n",
        "# X_test = scaler.transform(X_test)\n",
        "\n",
        "# # Volver a dar forma a los datos para que sean compatibles con la entrada de Conv2D\n",
        "# X_train = X_train.reshape(-1, 28, 28, 1)\n",
        "# X_test = X_test.reshape(-1, 28, 28, 1)\n",
        "\n",
        "# # Convertir las etiquetas a one-hot encoding\n",
        "# Y_train = to_categorical(Y_train, 10)\n",
        "# Y_test = to_categorical(Y_test, 10)\n",
        "\n",
        "# # 3. Construir el modelo CNN\n",
        "# model = Sequential([\n",
        "#     Conv2D(32, kernel_size=(3, 3), activation='relu', input_shape=(28, 28, 1)),\n",
        "#     MaxPooling2D(pool_size=(2, 2)),\n",
        "#     Conv2D(64, kernel_size=(3, 3), activation='relu'),\n",
        "#     MaxPooling2D(pool_size=(2, 2)),\n",
        "#     Flatten(),\n",
        "#     Dense(64, activation='relu'),\n",
        "#     Dense(10, activation='softmax')\n",
        "# ])\n",
        "\n",
        "# patience = 5\n",
        "\n",
        "# # Compilar el modelo\n",
        "# model.compile(\n",
        "#     optimizer='adam',\n",
        "#     loss='categorical_crossentropy',\n",
        "#     metrics=['accuracy'])\n",
        "\n",
        "# early_stop = EarlyStopping(\n",
        "#     monitor='val_loss',\n",
        "#     patience=patience,\n",
        "#     restore_best_weights=True)\n",
        "\n",
        "\n",
        "\n",
        "# # 4. Entrenar el modelo\n",
        "# model.fit(\n",
        "#     X_train,\n",
        "#     Y_train,\n",
        "#     validation_data=(X_test, Y_test),\n",
        "#     epochs=10,\n",
        "#     callbacks=[early_stop],\n",
        "#     verbose=1,\n",
        "#     batch_size=200)\n",
        "\n",
        "# plot_history(model.history)\n",
        "# # 5. Guardar el modelo\n",
        "# model.save('mnist_cnn_model.h5')\n",
        "\n",
        "# print(\"Modelo entrenado y guardado como 'mnist_cnn_model.h5'\")\n",
        "\n",
        "# # model.evaluate(X_test, Y_test)"
      ],
      "metadata": {
        "colab": {
          "base_uri": "https://localhost:8080/",
          "height": 827
        },
        "id": "dhx9hMtS67vP",
        "outputId": "a05b6520-279a-4adc-8455-ccc9f969c6a0"
      },
      "execution_count": null,
      "outputs": [
        {
          "output_type": "stream",
          "name": "stdout",
          "text": [
            "Epoch 1/10\n",
            "300/300 [==============================] - 46s 149ms/step - loss: 0.2837 - accuracy: 0.9189 - val_loss: 0.0765 - val_accuracy: 0.9770\n",
            "Epoch 2/10\n",
            "300/300 [==============================] - 43s 143ms/step - loss: 0.0722 - accuracy: 0.9783 - val_loss: 0.0484 - val_accuracy: 0.9846\n",
            "Epoch 3/10\n",
            "300/300 [==============================] - 48s 160ms/step - loss: 0.0511 - accuracy: 0.9844 - val_loss: 0.0423 - val_accuracy: 0.9866\n",
            "Epoch 4/10\n",
            "300/300 [==============================] - 46s 155ms/step - loss: 0.0406 - accuracy: 0.9874 - val_loss: 0.0328 - val_accuracy: 0.9892\n",
            "Epoch 5/10\n",
            "300/300 [==============================] - 43s 142ms/step - loss: 0.0343 - accuracy: 0.9890 - val_loss: 0.0353 - val_accuracy: 0.9877\n",
            "Epoch 6/10\n",
            "300/300 [==============================] - 44s 145ms/step - loss: 0.0294 - accuracy: 0.9910 - val_loss: 0.0349 - val_accuracy: 0.9894\n",
            "Epoch 7/10\n",
            "300/300 [==============================] - 42s 141ms/step - loss: 0.0244 - accuracy: 0.9922 - val_loss: 0.0296 - val_accuracy: 0.9907\n",
            "Epoch 8/10\n",
            "300/300 [==============================] - 44s 146ms/step - loss: 0.0198 - accuracy: 0.9938 - val_loss: 0.0304 - val_accuracy: 0.9904\n",
            "Epoch 9/10\n",
            "300/300 [==============================] - 44s 146ms/step - loss: 0.0172 - accuracy: 0.9944 - val_loss: 0.0330 - val_accuracy: 0.9895\n",
            "Epoch 10/10\n",
            "300/300 [==============================] - 44s 145ms/step - loss: 0.0157 - accuracy: 0.9950 - val_loss: 0.0331 - val_accuracy: 0.9887\n"
          ]
        },
        {
          "output_type": "display_data",
          "data": {
            "text/plain": [
              "<Figure size 2400x800 with 2 Axes>"
            ],
            "image/png": "[encoded data removed]"
          },
          "metadata": {}
        },
        {
          "output_type": "stream",
          "name": "stdout",
          "text": [
            "Modelo entrenado y guardado como 'mnist_cnn_model.h5'\n"
          ]
        },
        {
          "output_type": "stream",
          "name": "stderr",
          "text": [
            "/usr/local/lib/python3.10/dist-packages/keras/src/engine/training.py:3103: UserWarning: You are saving your model as an HDF5 file via `model.save()`. This file format is considered legacy. We recommend using instead the native Keras format, e.g. `model.save('my_model.keras')`.\n",
            "  saving_api.save_model(\n"
          ]
        }
      ]
    },
    {
      "cell_type": "code",
      "source": [
        "# # Evaluar el modelo en el conjunto de prueba\n",
        "# loss, accuracy = model.evaluate(X_test, Y_test, verbose=1)\n",
        "\n",
        "# print(f\"Pérdida en el conjunto de prueba: {loss:.4f}\")\n",
        "# print(f\"Precisión en el conjunto de prueba: {accuracy:.4f}\")"
      ],
      "metadata": {
        "colab": {
          "base_uri": "https://localhost:8080/"
        },
        "id": "NO87-_J_MfSL",
        "outputId": "e5b0a00c-269a-4c4a-81c8-f9f8ccb49d04"
      },
      "execution_count": null,
      "outputs": [
        {
          "output_type": "stream",
          "name": "stdout",
          "text": [
            "313/313 [==============================] - 2s 7ms/step - loss: 0.0331 - accuracy: 0.9887\n",
            "Pérdida en el conjunto de prueba: 0.0331\n",
            "Precisión en el conjunto de prueba: 0.9887\n"
          ]
        }
      ]
    },
    {
      "cell_type": "markdown",
      "source": [
        "## 03 Fingers"
      ],
      "metadata": {
        "id": "b_XMh6pPRnT7"
      }
    },
    {
      "cell_type": "code",
      "source": [
        "import zipfile\n",
        "import os\n",
        "\n",
        "# # Descomprimir en la misma carpeta\n",
        "# with zipfile.ZipFile(os.path.join(DATOS_DIR, 'Fingers.zip'), 'r') as zip_ref:\n",
        "#     zip_ref.extractall(LOCAL_DIR)\n",
        "\n",
        "\n",
        "from tensorflow.keras.models import Sequential\n",
        "from tensorflow.keras.layers import Dense, Flatten, Input, Conv2D, MaxPooling2D\n",
        "from tensorflow.keras import optimizers\n",
        "from tensorflow.keras import callbacks\n",
        "from tensorflow.keras.preprocessing.image import ImageDataGenerator\n",
        "from sklearn.model_selection import train_test_split\n",
        "from PIL import Image\n",
        "import numpy as np\n",
        "import glob\n",
        "import matplotlib.pyplot as plt\n",
        "\n",
        "IMG_ERROR = 'No hay imágenes para cargar. Verificar que la ruta sea correcta y que la carpeta tenga imagenes con la extensión usada'\n",
        "\n",
        "def import_data(data_dir):\n",
        "\n",
        "    img_list = glob.glob(data_dir)      # Obtener la lista de archivos de imágenes\n",
        "    assert len(img_list) > 0, IMG_ERROR # verifica que la ruta sea correcta y tenga al menos 1 imagen\n",
        "\n",
        "    img_data = []  # lista de imagenes\n",
        "    lbl_data = []  # lista de etiquetas\n",
        "\n",
        "    img_count = len(img_list)\n",
        "    for i, img_path in enumerate(img_list):\n",
        "\n",
        "        img = Image.open(img_path)          # Carga imagen\n",
        "        img = np.array(img) / np.max(img)   # Normaliza los píxeles entre 0 y 1\n",
        "        img = img.reshape((*img.shape, 1))  # Formatea la imagen para TF: WxH => WxHx1\n",
        "\n",
        "        # Almacenar la imagen y la etiqueta\n",
        "        img_data.append(img)\n",
        "        lbl_data.append(int(img_path[-6]))  # Extrae la cantidad de dedos del nombre del archivo\n",
        "\n",
        "        # Mostrar progreso en la carga\n",
        "        if i % 100 == 0:\n",
        "            print(\"\\rCargando imágenes: %6.2f%%\" % (100 * i / img_count), end=\"\")\n",
        "\n",
        "    print(\"\\rCargando imágenes: 100.00%% (%d) \\n\" % img_count)\n",
        "\n",
        "    return np.array(img_data), np.array(lbl_data)\n",
        "\n",
        "\n",
        "# carga las imagenes a partir de los nombres de archivos\n",
        "x_train, y_train = import_data(DATOS_DIR+\"Fingers/train/*/*.png\")\n",
        "\n",
        "# carga las imagenes a partir de los nombres de archivos\n",
        "x_test, y_test = import_data(DATOS_DIR+\"Fingers/test/*/*.png\")\n",
        "\n",
        "# separa los datos y clase en grupo de entrenamiento y validacion\n",
        "x_train, x_val, y_train, y_val = train_test_split(x_train, y_train, test_size = 0.30, shuffle = True)\n"
      ],
      "metadata": {
        "id": "Yb1Fjh6JRo5R",
        "outputId": "ee27775a-94fe-418f-e4cd-2fda443a3c2b",
        "colab": {
          "base_uri": "https://localhost:8080/"
        }
      },
      "execution_count": null,
      "outputs": [
        {
          "output_type": "stream",
          "name": "stdout",
          "text": [
            "\rCargando imágenes:   0.00%"
          ]
        }
      ]
    },
    {
      "cell_type": "code",
      "source": [
        "EPOCAS = 50\n",
        "LOTES  = 64\n",
        "PACIENCIA=8\n",
        "IMG_SIZE = x_train.shape[1:]\n",
        "N_CLASSES = len(np.unique(y_train))\n",
        "ACTIVA = 'LeakyReLU'\n",
        "\n",
        "# Construye el modelo\n",
        "model = Sequential()\n",
        "\n",
        "model.add(Input(shape=IMG_SIZE))\n",
        "model.add(Conv2D(16, kernel_size=(3,3), strides=(1,1), padding='same', activation=ACTIVA))\n",
        "model.add(MaxPooling2D(pool_size=(2,2)))\n",
        "model.add(Conv2D(32, kernel_size=(3,3), strides=(1,1), padding='same', activation=ACTIVA))\n",
        "model.add(MaxPooling2D(pool_size=(2,2)))\n",
        "model.add(Flatten())\n",
        "model.add(Dense(64, activation = ACTIVA))\n",
        "model.add(Dense(N_CLASSES, activation = 'softmax'))\n",
        "\n",
        "model.summary()\n",
        "\n",
        "# construye el modelo\n",
        "optimizer = optimizers.Adam(0.001)\n",
        "# Observar que con \"sparse_categorical_crossentropy\" no hace falta codificacion one-hot para las clases\n",
        "model.compile(optimizer, loss = 'sparse_categorical_crossentropy', metrics = ['accuracy'])\n",
        "\n",
        "\n",
        "# parada temprana para evitar el sobreajuste\n",
        "early_stop = callbacks.EarlyStopping(monitor='val_loss', patience=PACIENCIA, restore_best_weights=True )\n",
        "\n",
        "# entrena el modelo y guarda la historia del progreso\n",
        "H = model.fit(x_train,\n",
        "              y_train,\n",
        "              batch_size = LOTES,\n",
        "              epochs = EPOCAS,\n",
        "              validation_data = (x_val, y_val),\n",
        "              callbacks=[early_stop]\n",
        "             )\n",
        "\n"
      ],
      "metadata": {
        "id": "tXnvl3H9RsT8"
      },
      "execution_count": null,
      "outputs": []
    }
  ],
  "metadata": {
    "colab": {
      "provenance": [],
      "machine_shape": "hm",
      "include_colab_link": true
    },
    "kernelspec": {
      "display_name": "Python 3",
      "name": "python3"
    },
    "language_info": {
      "codemirror_mode": {
        "name": "ipython",
        "version": 3
      },
      "file_extension": ".py",
      "mimetype": "text/x-python",
      "name": "python",
      "nbconvert_exporter": "python",
      "pygments_lexer": "ipython3",
      "version": "3.9.16"
    },
    "varInspector": {
      "cols": {
        "lenName": "16",
        "lenType": "16",
        "lenVar": "50"
      },
      "kernels_config": {
        "python": {
          "delete_cmd_postfix": "",
          "delete_cmd_prefix": "del ",
          "library": "var_list.py",
          "varRefreshCmd": "print(var_dic_list())"
        },
        "r": {
          "delete_cmd_postfix": ") ",
          "delete_cmd_prefix": "rm(",
          "library": "var_list.r",
          "varRefreshCmd": "cat(var_dic_list()) "
        }
      },
      "types_to_exclude": [
        "module",
        "function",
        "builtin_function_or_method",
        "instance",
        "_Feature"
      ],
      "window_display": false
    }
  },
  "nbformat": 4,
  "nbformat_minor": 0
}