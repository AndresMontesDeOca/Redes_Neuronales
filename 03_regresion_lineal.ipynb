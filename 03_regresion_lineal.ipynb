{
  "nbformat": 4,
  "nbformat_minor": 0,
  "metadata": {
    "colab": {
      "provenance": [],
      "include_colab_link": true
    },
    "kernelspec": {
      "name": "python3",
      "display_name": "Python 3"
    },
    "language_info": {
      "name": "python"
    },
    "gpuClass": "standard"
  },
  "cells": [
    {
      "cell_type": "markdown",
      "metadata": {
        "id": "view-in-github",
        "colab_type": "text"
      },
      "source": [
        "<a href=\"https://colab.research.google.com/github/AndresMontesDeOca/Redes_Neuronales/blob/main/03_regresion_lineal.ipynb\" target=\"_parent\"><img src=\"https://colab.research.google.com/assets/colab-badge.svg\" alt=\"Open In Colab\"/></a>"
      ]
    },
    {
      "cell_type": "markdown",
      "source": [
        "# Regresión lineal simple\n",
        "---"
      ],
      "metadata": {
        "id": "vdWG2FEMDVST"
      }
    },
    {
      "cell_type": "markdown",
      "source": [
        "**Montar la carpeta de Google Drive y definir constantes para trabajar**"
      ],
      "metadata": {
        "id": "Uo28j-NUANeL"
      }
    },
    {
      "cell_type": "code",
      "source": [
        "ColabNotebook = 'google.colab' in str(get_ipython())\n",
        "\n",
        "if ColabNotebook:\n",
        "    # monta G-drive en entorno COLAB\n",
        "    from google.colab import drive\n",
        "    drive.mount('/content/drive/')\n",
        "\n",
        "    # carpeta donde se encuentran archivos .py auxiliares\n",
        "    FUENTES_DIR = '/content/drive/MyDrive/Colab Notebooks/Redes_Neuronales/Fuentes/'\n",
        "    DATOS_DIR = '/content/drive/MyDrive/Colab Notebooks/Redes_Neuronales/Data/'      # carpeta donde se encuentran los datasets\n",
        "else:\n",
        "    # configuración para notebook con instalación LOCAL\n",
        "    FUENTES_DIR = '../Fuentes' # carpeta donde se encuentran archivos .py auxiliares\n",
        "    DATOS_DIR   = '../Datos/'  # carpeta donde se encuentran los datasets\n",
        "\n",
        "# agrega ruta de busqueda donde tenemos archivos .py\n",
        "import sys\n",
        "sys.path.append(FUENTES_DIR)"
      ],
      "metadata": {
        "id": "AxTXXFi-ALES",
        "colab": {
          "base_uri": "https://localhost:8080/"
        },
        "outputId": "49b6f67a-6bea-4182-8899-2c34ec0a700b"
      },
      "execution_count": 5,
      "outputs": [
        {
          "output_type": "stream",
          "name": "stdout",
          "text": [
            "Drive already mounted at /content/drive/; to attempt to forcibly remount, call drive.mount(\"/content/drive/\", force_remount=True).\n"
          ]
        }
      ]
    },
    {
      "cell_type": "markdown",
      "source": [
        "#    Variantes del Descenso del Gradiente\n",
        "**Descenso del Gradiente por Lotes (Batch Gradient Descent):**\n",
        "\n",
        "* Calcula el gradiente utilizando todo el conjunto de datos en cada época.\n",
        "* Ajusta los pesos una vez por época en función del gradiente global promedio.\n",
        "* Adecuado para conjuntos de datos pequeños o medianos, pero costoso en conjuntos de datos grandes.\n",
        "\n",
        "**Descenso de Gradiente Estocástico (Stocastic Gradient Descent):**\n",
        "\n",
        "* Calcula el gradiente utilizando un solo ejemplo a la vez en cada iteración.\n",
        "* Ajusta los pesos después de cada ejemplo.\n",
        "* Converge más rápido, especialmente en conjuntos de datos grandes, pero con mayor variabilidad en la dirección del gradiente debido a la estocasticidad.\n",
        "\n",
        "**Descenso del Gradiente por Mini-lotes (Mini-Batch Gradient Descent):**\n",
        "\n",
        "* Calcula el gradiente utilizando un mini-lote (un pequeño subconjunto de ejemplos) en cada iteración.\n",
        "* Ajusta los pesos después de cada mini-lote.\n",
        "* Equilibra la eficiencia y la estabilidad del gradiente, utilizado comúnmente en prácticas de entrenamiento.\n",
        "\n",
        "\n",
        "---\n"
      ],
      "metadata": {
        "id": "b2t-SR2qcsU-"
      }
    },
    {
      "cell_type": "markdown",
      "source": [
        "#   Error Cuadrático Medio  (Mean Square Error)\n",
        "\n",
        "\n",
        "\n",
        "$$\n",
        "MSE = \\frac{1}{m} \\sum_{i=1}^{m} (y_i - \\hat{y}_i)^2 \\\\\n",
        "$$\n",
        "\n",
        "\n",
        "Donde:\n",
        "\n",
        "- $MSE$ es el Error Cuadrático Medio.\n",
        "- $m$ es el número de observaciones o ejemplos del conjunto de datos.\n",
        "- $y_i$ es el valor real (que intenta predecir el modelo) del ejemplo $i$.\n",
        "- $\\hat{y}_i$ es el valor predicho por el modelo para el ejemplo $i$.\n",
        "\n",
        "\n"
      ],
      "metadata": {
        "id": "4YHuM9jH-b9I"
      }
    },
    {
      "cell_type": "code",
      "source": [
        "import numpy as np\n",
        "import matplotlib.pyplot as plt\n",
        "\n",
        "# Datos\n",
        "X = np.array([2, 3, 4, 4, 5, 6, 6, 7, 7, 8, 10, 10]) # horas de entrenamiento semanal\n",
        "Y = np.array([30.5, 29.3, 26.7, 26.0, 25.5, 24.7, 23.5, 23.0, 22.5, 21.0, 21.0, 20.5]) # tiempo promedio del recorrido\n",
        "\n",
        "# Calculo del coeficiente de correlación\n",
        "correlacion = np.corrcoef(X, Y)[0, 1]\n",
        "print(f'\\nCorrelación entre Entrenamiento y Tiempo: {correlacion}\\n')\n",
        "\n",
        "# Diagrama de dispersión\n",
        "plt.scatter(X, Y)\n",
        "plt.xlabel('Entrenamiento')\n",
        "plt.ylabel('Tiempo Promedio (min)')\n",
        "plt.title('Horas de Entrenamiento vs Tiempo Promedio')\n",
        "plt.show()"
      ],
      "metadata": {
        "colab": {
          "base_uri": "https://localhost:8080/",
          "height": 526
        },
        "id": "1bXcltrY4sWk",
        "outputId": "0740c67b-e655-4f83-a96b-74e0d9a5210f"
      },
      "execution_count": 6,
      "outputs": [
        {
          "output_type": "stream",
          "name": "stdout",
          "text": [
            "\n",
            "Correlación entre Entrenamiento y Tiempo: -0.959746386006859\n",
            "\n"
          ]
        },
        {
          "output_type": "display_data",
          "data": {
            "text/plain": [
              "<Figure size 640x480 with 1 Axes>"
            ],
            "image/png": "[encoded data removed]"
          },
          "metadata": {}
        }
      ]
    },
    {
      "cell_type": "code",
      "execution_count": null,
      "metadata": {
        "id": "31U4F4YICm74",
        "colab": {
          "base_uri": "https://localhost:8080/",
          "height": 449
        },
        "outputId": "e2a22c21-16d3-4976-f496-05f71dfc8db1"
      },
      "outputs": [
        {
          "output_type": "display_data",
          "data": {
            "text/plain": [
              "<Figure size 640x480 with 1 Axes>"
            ],
            "image/png": "[encoded data removed]"
          },
          "metadata": {}
        }
      ],
      "source": [
        "from ClassNeuronaLineal import NeuronaLineal\n",
        "\n",
        "x_train = X.reshape(-1,1)    # selecciona entradas y formatea a Nx1\n",
        "y_train = Y.reshape(-1,1)    # selecciona salidas y formatea a Nx1\n",
        "print(x_train.shape)\n",
        "# entrena neurona lineal y grafica\n",
        "modelo = NeuronaLineal(alpha=0.01, n_iter=500, cotaE=0.001, draw=1, title=['Entrenamiento', 'Tiempo'])\n",
        "modelo = modelo.fit(x_train, y_train)\n",
        "\n",
        "# imprime pesos\n",
        "print('Pesos de la Neurona:')\n",
        "print('  w =', modelo.w_[0])\n",
        "print('  b =', modelo.b_[0])\n",
        "\n",
        "# grafica errores\n",
        "plt.plot(range(len(modelo.errors_)), [err[0] for err in modelo.errors_], marker='o', linestyle='-', color='b')\n",
        "plt.title('Errores por Iteración')\n",
        "plt.xlabel('Iteración')\n",
        "plt.ylabel('Error')\n",
        "plt.grid(True)\n",
        "plt.show()"
      ]
    },
    {
      "cell_type": "markdown",
      "source": [
        "### Predicción del tiempo para caso particular de horas entrenadas"
      ],
      "metadata": {
        "id": "uFTFmxj3ijcy"
      }
    },
    {
      "cell_type": "code",
      "source": [
        "horas = 9 # horas semanales dedicadas\n",
        "tiempo = modelo.predict([horas]) # prediccion del tiempo de recorrido en minutos\n",
        "\n",
        "print('Quien dedicó %d horas de entrenamiento tradará %d minutos en hacer el recorrido\\n' % (horas, tiempo[0]))\n",
        "\n",
        "# Diagrama de dispersión\n",
        "plt.scatter(X, Y)\n",
        "plt.xlabel('Entrenamiento')\n",
        "plt.ylabel('Tiempo Promedio (min)')\n",
        "plt.title('Horas de Entrenamiento vs Tiempo Promedio')\n",
        "\n",
        "plt.scatter([horas], tiempo, marker='x', color='r', label='Predicción')\n",
        "\n",
        "plt.show()\n"
      ],
      "metadata": {
        "id": "vO5Tt7Nrhhj6"
      },
      "execution_count": null,
      "outputs": []
    }
  ]
}