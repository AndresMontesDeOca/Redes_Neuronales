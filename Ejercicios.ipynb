{
  "nbformat": 4,
  "nbformat_minor": 0,
  "metadata": {
    "colab": {
      "provenance": [],
      "toc_visible": true,
      "authorship_tag": "ABX9TyNXwG4gvb4yFuToNq82MFa+",
      "include_colab_link": true
    },
    "kernelspec": {
      "name": "python3",
      "display_name": "Python 3"
    },
    "language_info": {
      "name": "python"
    }
  },
  "cells": [
    {
      "cell_type": "markdown",
      "metadata": {
        "id": "view-in-github",
        "colab_type": "text"
      },
      "source": [
        "<a href=\"https://colab.research.google.com/github/AndresMontesDeOca/Redes_Neuronales/blob/main/Ejercicios.ipynb\" target=\"_parent\"><img src=\"https://colab.research.google.com/assets/colab-badge.svg\" alt=\"Open In Colab\"/></a>"
      ]
    },
    {
      "cell_type": "markdown",
      "source": [
        "# Redes Neuronales - Guia Ejercicios"
      ],
      "metadata": {
        "id": "qrXGFn9BdY0x"
      }
    },
    {
      "cell_type": "code",
      "source": [],
      "metadata": {
        "id": "MSusbBqHdbUa"
      },
      "execution_count": null,
      "outputs": []
    },
    {
      "cell_type": "markdown",
      "source": [
        "## Librerias"
      ],
      "metadata": {
        "id": "y3YfiXbudcr3"
      }
    },
    {
      "cell_type": "code",
      "source": [],
      "metadata": {
        "id": "vJ2vcTKHdeyq"
      },
      "execution_count": null,
      "outputs": []
    },
    {
      "cell_type": "markdown",
      "source": [
        "## Data Load"
      ],
      "metadata": {
        "id": "-6WRg5kldfa4"
      }
    },
    {
      "cell_type": "code",
      "source": [],
      "metadata": {
        "id": "CxnNyQBOdgWv"
      },
      "execution_count": null,
      "outputs": []
    },
    {
      "cell_type": "markdown",
      "source": [
        "# TP #1"
      ],
      "metadata": {
        "id": "0O25ve8pdlMs"
      }
    },
    {
      "cell_type": "code",
      "source": [],
      "metadata": {
        "id": "tJiFPCkLdmOq"
      },
      "execution_count": null,
      "outputs": []
    }
  ]
}