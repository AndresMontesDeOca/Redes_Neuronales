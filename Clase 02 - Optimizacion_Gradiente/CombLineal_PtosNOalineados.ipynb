{
  "cells": [
    {
      "cell_type": "markdown",
      "metadata": {
        "id": "view-in-github",
        "colab_type": "text"
      },
      "source": [
        "<a href=\"https://colab.research.google.com/github/AndresMontesDeOca/Redes_Neuronales/blob/main/Clase%2002%20-%20Optimizacion_Gradiente/CombLineal_PtosNOalineados.ipynb\" target=\"_parent\"><img src=\"https://colab.research.google.com/assets/colab-badge.svg\" alt=\"Open In Colab\"/></a>"
      ]
    },
    {
      "cell_type": "code",
      "execution_count": null,
      "id": "b1cf261c",
      "metadata": {
        "is_executing": true,
        "id": "b1cf261c"
      },
      "outputs": [],
      "source": [
        "ColabNotebook = 'google.colab' in str(get_ipython())\n",
        "\n",
        "if ColabNotebook:\n",
        "    # monta G-drive en entorno COLAB\n",
        "    from google.colab import drive\n",
        "\n",
        "    drive.mount('/content/drive/')\n",
        "\n",
        "    # carpeta donde se encuentran archivos .py auxiliares\n",
        "    FUENTES_DIR = '/content/drive/MyDrive/Colab Notebooks/FUENTES/'\n",
        "    DATOS_DIR = '/content/drive/MyDrive/Colab Notebooks/DATOS/'      # carpeta donde se encuentran los datasets\n",
        "else:\n",
        "    # configuración para notebook con instalación LOCAL\n",
        "    FUENTES_DIR = '../Fuentes'         # carpeta donde se encuentran archivos .py auxiliares\n",
        "    DATOS_DIR   = '../Datos/' # carpeta donde se encuentran los datasets\n",
        "\n",
        "# agrega ruta de busqueda donde tenemos archivos .py\n",
        "import sys\n",
        "sys.path.append(FUENTES_DIR)"
      ]
    },
    {
      "cell_type": "code",
      "execution_count": null,
      "id": "f3fbf3c3",
      "metadata": {
        "is_executing": true,
        "id": "f3fbf3c3"
      },
      "outputs": [],
      "source": [
        "%matplotlib inline\n",
        "import numpy as np\n",
        "import pandas as pd\n",
        "import time\n",
        "#from matplotlib import pyplot as plt\n",
        "from matplotlib import pylab as plt\n",
        "from IPython import display\n",
        "\n",
        "from grafica import *\n",
        "from ClassNeuronaLineal import NeuronaLineal"
      ]
    },
    {
      "cell_type": "code",
      "execution_count": null,
      "id": "0f54ff5e",
      "metadata": {
        "id": "0f54ff5e",
        "outputId": "50f23203-7729-46b4-e7ae-6fba597538a8"
      },
      "outputs": [
        {
          "name": "stdout",
          "output_type": "stream",
          "text": [
            "[[1]\n",
            " [3]\n",
            " [5]\n",
            " [2]\n",
            " [4]]\n",
            "[1 2 5 3 3]\n"
          ]
        }
      ],
      "source": [
        "Ptos = np.array([[1,1], [3,2], [5,5], [2,3], [4,3]])\n",
        "X = Ptos[:,0].reshape(-1,1)\n",
        "Y = Ptos[:,1]\n",
        "print(X)\n",
        "print(Y)"
      ]
    },
    {
      "cell_type": "code",
      "execution_count": null,
      "id": "a7901f35",
      "metadata": {
        "is_executing": true,
        "id": "a7901f35"
      },
      "outputs": [],
      "source": [
        "nl = NeuronaLineal(alpha=0.01, n_iter=30, cotaE=10e-06, draw=1, title=['X', 'Y'])\n",
        "# --- utilice random_state=None para que los pesos se inicializacen en forma aleatoria --\n",
        "nl.fit(X, Y)"
      ]
    },
    {
      "cell_type": "code",
      "execution_count": null,
      "id": "93a5e363",
      "metadata": {
        "id": "93a5e363",
        "outputId": "282e5e47-3719-4526-ae83-a5a1d1c64076"
      },
      "outputs": [
        {
          "name": "stdout",
          "output_type": "stream",
          "text": [
            "W =  [0.81431892]\n",
            "b =  0.35846750620174744\n"
          ]
        }
      ],
      "source": [
        "print(\"W = \", nl.w_)\n",
        "print(\"b = \", nl.b_)"
      ]
    },
    {
      "cell_type": "code",
      "execution_count": null,
      "id": "afa0029f",
      "metadata": {
        "id": "afa0029f",
        "outputId": "1b7c048d-4094-4bef-a1ea-3ab70d1bf073"
      },
      "outputs": [
        {
          "data": {
            "image/png": "[encoded data removed]",
            "text/plain": [
              "<Figure size 640x480 with 1 Axes>"
            ]
          },
          "metadata": {},
          "output_type": "display_data"
        }
      ],
      "source": [
        "plt.plot(range(1, len(nl.errors_) + 1), nl.errors_, marker='o')\n",
        "plt.xlabel('Iteraciones')\n",
        "plt.ylabel('Cantidad de actualizaciones')\n",
        "plt.show()"
      ]
    },
    {
      "cell_type": "code",
      "execution_count": null,
      "id": "0d730ec1",
      "metadata": {
        "id": "0d730ec1"
      },
      "outputs": [],
      "source": []
    }
  ],
  "metadata": {
    "kernelspec": {
      "display_name": "Python 3 (ipykernel)",
      "language": "python",
      "name": "python3"
    },
    "language_info": {
      "codemirror_mode": {
        "name": "ipython",
        "version": 3
      },
      "file_extension": ".py",
      "mimetype": "text/x-python",
      "name": "python",
      "nbconvert_exporter": "python",
      "pygments_lexer": "ipython3",
      "version": "3.7.13"
    },
    "colab": {
      "provenance": [],
      "include_colab_link": true
    }
  },
  "nbformat": 4,
  "nbformat_minor": 5
}